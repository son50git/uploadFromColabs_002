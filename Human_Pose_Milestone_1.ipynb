{
  "nbformat": 4,
  "nbformat_minor": 0,
  "metadata": {
    "colab": {
      "name": "Human Pose Milestone_1.ipynb",
      "provenance": [],
      "authorship_tag": "ABX9TyPJOPD9cjmwAwVQMDBY/uXQ",
      "include_colab_link": true
    },
    "kernelspec": {
      "name": "python3",
      "display_name": "Python 3"
    },
    "accelerator": "GPU"
  },
  "cells": [
    {
      "cell_type": "markdown",
      "metadata": {
        "id": "view-in-github",
        "colab_type": "text"
      },
      "source": [
        "<a href=\"https://colab.research.google.com/github/son50git/uploadFromColabs_002/blob/master/Human_Pose_Milestone_1.ipynb\" target=\"_parent\"><img src=\"https://colab.research.google.com/assets/colab-badge.svg\" alt=\"Open In Colab\"/></a>"
      ]
    },
    {
      "cell_type": "code",
      "metadata": {
        "id": "CKiwdNWODM0l"
      },
      "source": [
        "# created a GPU instance (Edit → Notebook Settings → GPU)."
      ],
      "execution_count": 1,
      "outputs": []
    },
    {
      "cell_type": "code",
      "metadata": {
        "id": "7-GiARAXEq_x"
      },
      "source": [
        "import scipy.io as sio"
      ],
      "execution_count": 2,
      "outputs": []
    },
    {
      "cell_type": "code",
      "metadata": {
        "id": "MzIB7jQDDm-3",
        "outputId": "15fc04a8-5515-4ab7-a7ca-0588832eb166",
        "colab": {
          "base_uri": "https://localhost:8080/"
        }
      },
      "source": [
        "# download and read the SVHN dataset (train_32x32.mat and test_32x32.mat)\n",
        "# http://ufldl.stanford.edu/housenumbers/\n",
        "\n",
        "!wget http://ufldl.stanford.edu/housenumbers/train_32x32.mat\n",
        "!wget http://ufldl.stanford.edu/housenumbers/test_32x32.mat\n",
        "train = sio.loadmat('train_32x32.mat')\n",
        "test = sio.loadmat('test_32x32.mat')"
      ],
      "execution_count": 3,
      "outputs": [
        {
          "output_type": "stream",
          "text": [
            "--2020-11-13 21:40:01--  http://ufldl.stanford.edu/housenumbers/train_32x32.mat\n",
            "Resolving ufldl.stanford.edu (ufldl.stanford.edu)... 171.64.68.10\n",
            "Connecting to ufldl.stanford.edu (ufldl.stanford.edu)|171.64.68.10|:80... connected.\n",
            "HTTP request sent, awaiting response... 200 OK\n",
            "Length: 182040794 (174M) [text/plain]\n",
            "Saving to: ‘train_32x32.mat’\n",
            "\n",
            "train_32x32.mat     100%[===================>] 173.61M  12.3MB/s    in 14s     \n",
            "\n",
            "2020-11-13 21:40:15 (12.2 MB/s) - ‘train_32x32.mat’ saved [182040794/182040794]\n",
            "\n",
            "--2020-11-13 21:40:15--  http://ufldl.stanford.edu/housenumbers/test_32x32.mat\n",
            "Resolving ufldl.stanford.edu (ufldl.stanford.edu)... 171.64.68.10\n",
            "Connecting to ufldl.stanford.edu (ufldl.stanford.edu)|171.64.68.10|:80... connected.\n",
            "HTTP request sent, awaiting response... 200 OK\n",
            "Length: 64275384 (61M) [text/plain]\n",
            "Saving to: ‘test_32x32.mat’\n",
            "\n",
            "test_32x32.mat      100%[===================>]  61.30M  14.8MB/s    in 5.0s    \n",
            "\n",
            "2020-11-13 21:40:21 (12.2 MB/s) - ‘test_32x32.mat’ saved [64275384/64275384]\n",
            "\n"
          ],
          "name": "stdout"
        }
      ]
    },
    {
      "cell_type": "code",
      "metadata": {
        "id": "I7tZ7gFQFsyr",
        "outputId": "5ed28b44-59dc-4931-9e7d-85509a5bab56",
        "colab": {
          "base_uri": "https://localhost:8080/"
        }
      },
      "source": [
        "## display a few example images and their label\n",
        "\n",
        "# type(train) # dict\n",
        "# train.shape # ERROR\n",
        "# len(train) # 5\n",
        "\n",
        "train.items()\n",
        "# train.keys()\n",
        "# train.values()\n"
      ],
      "execution_count": 4,
      "outputs": [
        {
          "output_type": "execute_result",
          "data": {
            "text/plain": [
              "dict_items([('__header__', b'MATLAB 5.0 MAT-file, Platform: GLNXA64, Created on: Mon Dec  5 21:09:26 2011'), ('__version__', '1.0'), ('__globals__', []), ('X', array([[[[ 33,  84,  19, ...,  92, 190, 216],\n",
              "         [ 30,  76,  54, ...,  78, 188, 217],\n",
              "         [ 38,  59, 110, ..., 101, 191, 212]],\n",
              "\n",
              "        [[ 15,  86,  20, ...,  94, 205, 221],\n",
              "         [ 23,  73,  52, ...,  82, 203, 222],\n",
              "         [ 19,  66, 111, ..., 105, 206, 217]],\n",
              "\n",
              "        [[ 15,  77,  25, ..., 114, 220, 226],\n",
              "         [ 17,  78,  57, ..., 101, 218, 227],\n",
              "         [ 19,  56, 116, ..., 125, 220, 221]],\n",
              "\n",
              "        ...,\n",
              "\n",
              "        [[ 72,  90,  65, ..., 200, 229, 200],\n",
              "         [ 65,  78, 144, ..., 201, 231, 199],\n",
              "         [ 56,  69, 223, ..., 203, 224, 191]],\n",
              "\n",
              "        [[ 82,  88,  78, ..., 192, 229, 193],\n",
              "         [ 77,  77, 148, ..., 193, 229, 188],\n",
              "         [ 57,  67, 218, ..., 195, 224, 182]],\n",
              "\n",
              "        [[ 89,  88,  98, ..., 190, 229, 197],\n",
              "         [ 79,  78, 158, ..., 191, 228, 189],\n",
              "         [ 59,  66, 220, ..., 193, 223, 186]]],\n",
              "\n",
              "\n",
              "       [[[ 28,  85,  21, ...,  92, 183, 204],\n",
              "         [ 39,  77,  53, ...,  78, 182, 205],\n",
              "         [ 35,  61, 110, ..., 103, 186, 202]],\n",
              "\n",
              "        [[ 14,  83,  19, ...,  93, 200, 210],\n",
              "         [ 25,  73,  52, ...,  80, 199, 211],\n",
              "         [ 22,  64, 106, ..., 106, 201, 208]],\n",
              "\n",
              "        [[ 14,  74,  25, ..., 111, 218, 220],\n",
              "         [ 20,  69,  56, ...,  98, 217, 221],\n",
              "         [ 17,  59, 111, ..., 124, 218, 217]],\n",
              "\n",
              "        ...,\n",
              "\n",
              "        [[ 40,  89,  63, ..., 181, 227, 201],\n",
              "         [ 39,  82, 137, ..., 180, 228, 199],\n",
              "         [ 50,  64, 208, ..., 184, 223, 193]],\n",
              "\n",
              "        [[ 67,  88,  91, ..., 177, 227, 195],\n",
              "         [ 58,  79, 153, ..., 176, 226, 191],\n",
              "         [ 52,  70, 214, ..., 180, 222, 186]],\n",
              "\n",
              "        [[ 83,  88, 130, ..., 183, 228, 196],\n",
              "         [ 78,  81, 180, ..., 182, 224, 190],\n",
              "         [ 60,  67, 229, ..., 187, 221, 186]]],\n",
              "\n",
              "\n",
              "       [[[ 40,  83,  21, ...,  99, 171, 198],\n",
              "         [ 41,  76,  53, ...,  84, 170, 198],\n",
              "         [ 38,  60, 110, ..., 112, 175, 197]],\n",
              "\n",
              "        [[ 18,  78,  20, ...,  94, 189, 202],\n",
              "         [ 21,  77,  51, ...,  81, 189, 202],\n",
              "         [ 26,  58, 106, ..., 110, 193, 201]],\n",
              "\n",
              "        [[ 16,  61,  22, ..., 107, 213, 212],\n",
              "         [ 17,  50,  52, ...,  94, 213, 211],\n",
              "         [ 23,  54, 106, ..., 123, 215, 210]],\n",
              "\n",
              "        ...,\n",
              "\n",
              "        [[ 23,  90,  79, ..., 167, 231, 203],\n",
              "         [ 29,  85, 147, ..., 166, 230, 200],\n",
              "         [ 45,  63, 210, ..., 171, 226, 196]],\n",
              "\n",
              "        [[ 35,  88, 125, ..., 172, 229, 198],\n",
              "         [ 42,  83, 181, ..., 171, 226, 194],\n",
              "         [ 44,  66, 230, ..., 176, 223, 191]],\n",
              "\n",
              "        [[ 72,  85, 178, ..., 185, 227, 195],\n",
              "         [ 69,  82, 218, ..., 184, 223, 190],\n",
              "         [ 53,  70, 254, ..., 189, 220, 187]]],\n",
              "\n",
              "\n",
              "       ...,\n",
              "\n",
              "\n",
              "       [[[ 86, 100,  88, ...,  99, 187, 233],\n",
              "         [ 81,  98, 162, ...,  94, 185, 226],\n",
              "         [ 75,  72, 237, ..., 110, 186, 228]],\n",
              "\n",
              "        [[ 87,  98,  89, ...,  96, 204, 230],\n",
              "         [ 82,  94, 163, ...,  91, 202, 224],\n",
              "         [ 71,  76, 238, ..., 109, 199, 225]],\n",
              "\n",
              "        [[ 82,  95,  84, ..., 108, 217, 228],\n",
              "         [ 79,  93, 156, ..., 103, 217, 223],\n",
              "         [ 65,  73, 230, ..., 124, 210, 221]],\n",
              "\n",
              "        ...,\n",
              "\n",
              "        [[104, 104,  62, ..., 210, 204, 198],\n",
              "         [104, 104, 142, ..., 207, 200, 196],\n",
              "         [ 87,  86, 227, ..., 204, 195, 190]],\n",
              "\n",
              "        [[104, 102,  67, ..., 206, 196, 184],\n",
              "         [105, 102, 144, ..., 202, 193, 183],\n",
              "         [ 81,  87, 226, ..., 200, 189, 177]],\n",
              "\n",
              "        [[103, 100,  74, ..., 203, 196, 189],\n",
              "         [105, 101, 145, ..., 197, 193, 187],\n",
              "         [ 78,  78, 225, ..., 199, 189, 182]]],\n",
              "\n",
              "\n",
              "       [[[ 84, 103,  88, ...,  94, 186, 231],\n",
              "         [ 86, 104, 164, ...,  91, 184, 226],\n",
              "         [ 64,  79, 240, ..., 103, 185, 228]],\n",
              "\n",
              "        [[ 86, 106,  87, ...,  94, 198, 229],\n",
              "         [ 79, 104, 160, ...,  91, 197, 224],\n",
              "         [ 72,  79, 237, ..., 104, 194, 225]],\n",
              "\n",
              "        [[ 82, 103,  88, ..., 110, 211, 227],\n",
              "         [ 76, 103, 159, ..., 107, 211, 223],\n",
              "         [ 72,  87, 237, ..., 121, 204, 222]],\n",
              "\n",
              "        ...,\n",
              "\n",
              "        [[110, 103,  60, ..., 219, 222, 195],\n",
              "         [103, 104, 141, ..., 218, 216, 194],\n",
              "         [ 84,  86, 230, ..., 215, 212, 186]],\n",
              "\n",
              "        [[106, 103,  61, ..., 218, 214, 181],\n",
              "         [105, 103, 141, ..., 215, 209, 181],\n",
              "         [ 85,  87, 228, ..., 212, 205, 173]],\n",
              "\n",
              "        [[106, 105,  65, ..., 212, 208, 186],\n",
              "         [104,  99, 143, ..., 209, 205, 183],\n",
              "         [ 86,  81, 226, ..., 209, 200, 177]]],\n",
              "\n",
              "\n",
              "       [[[ 85, 103,  84, ...,  88, 190, 230],\n",
              "         [ 88, 106, 160, ...,  87, 188, 226],\n",
              "         [ 68,  82, 238, ...,  94, 190, 227]],\n",
              "\n",
              "        [[ 89, 103,  81, ...,  85, 199, 230],\n",
              "         [ 82, 105, 154, ...,  84, 197, 226],\n",
              "         [ 72,  87, 233, ...,  93, 194, 227]],\n",
              "\n",
              "        [[ 85, 104,  87, ..., 105, 208, 229],\n",
              "         [ 79, 106, 158, ..., 103, 208, 225],\n",
              "         [ 67,  91, 238, ..., 114, 201, 226]],\n",
              "\n",
              "        ...,\n",
              "\n",
              "        [[111, 113,  63, ..., 217, 232, 190],\n",
              "         [104, 103, 144, ..., 217, 227, 190],\n",
              "         [ 87,  88, 235, ..., 214, 223, 181]],\n",
              "\n",
              "        [[109, 104,  62, ..., 221, 226, 178],\n",
              "         [105, 104, 143, ..., 220, 221, 177],\n",
              "         [ 86,  88, 232, ..., 219, 216, 169]],\n",
              "\n",
              "        [[103, 103,  63, ..., 218, 218, 181],\n",
              "         [106,  98, 145, ..., 217, 213, 178],\n",
              "         [ 79,  80, 231, ..., 218, 209, 171]]]], dtype=uint8)), ('y', array([[1],\n",
              "       [9],\n",
              "       [2],\n",
              "       ...,\n",
              "       [1],\n",
              "       [6],\n",
              "       [9]], dtype=uint8))])"
            ]
          },
          "metadata": {
            "tags": []
          },
          "execution_count": 4
        }
      ]
    },
    {
      "cell_type": "code",
      "metadata": {
        "id": "1Dt4-3Q9HxdD",
        "outputId": "3724c28a-49c8-44c4-95d2-ab81b98eab59",
        "colab": {
          "base_uri": "https://localhost:8080/"
        }
      },
      "source": [
        "! pip install boto3 # one-time (??)\n",
        "\n",
        "# Successfully built boto3\n",
        "# ERROR: requests 2.23.0 has requirement urllib3!=1.25.0,!=1.25.1,<1.26,>=1.21.1, but you'll have urllib3 1.26.2 which is incompatible.\n",
        "# ERROR: datascience 0.10.6 has requirement folium==0.2.1, but you'll have folium 0.8.3 which is incompatible.\n",
        "\n",
        "# Installing collected packages: jmespath, urllib3, botocore, s3transfer, boto3\n",
        "# Found existing installation: urllib3 1.24.3\n",
        "# Uninstalling urllib3-1.24.3:\n",
        "# Successfully uninstalled urllib3-1.24.3\n",
        "# Successfully installed boto3-1.16.17 botocore-1.19.17 jmespath-0.10.0 s3transfer-0.3.3 urllib3-1.26.2\n",
        "# WARNING: The following packages were previously imported in this runtime:\n",
        "# [urllib3]\n",
        "# You must restart the runtime in order to use newly installed versions."
      ],
      "execution_count": 7,
      "outputs": [
        {
          "output_type": "stream",
          "text": [
            "Collecting boto3\n",
            "\u001b[?25l  Downloading https://files.pythonhosted.org/packages/6d/7e/3668fb3049a568dead633f8727810e04db95fda9269effdaf8abab56b8fd/boto3-1.16.18-py2.py3-none-any.whl (129kB)\n",
            "\u001b[K     |████████████████████████████████| 133kB 11.2MB/s \n",
            "\u001b[?25hCollecting botocore<1.20.0,>=1.19.18\n",
            "\u001b[?25l  Downloading https://files.pythonhosted.org/packages/d1/e4/3f243b98244f13ac3f7bbe3ec6c4f8473194a200e9785d68696dc5e0d72f/botocore-1.19.18-py2.py3-none-any.whl (6.8MB)\n",
            "\u001b[K     |████████████████████████████████| 6.8MB 11.6MB/s \n",
            "\u001b[?25hCollecting jmespath<1.0.0,>=0.7.1\n",
            "  Downloading https://files.pythonhosted.org/packages/07/cb/5f001272b6faeb23c1c9e0acc04d48eaaf5c862c17709d20e3469c6e0139/jmespath-0.10.0-py2.py3-none-any.whl\n",
            "Collecting s3transfer<0.4.0,>=0.3.0\n",
            "\u001b[?25l  Downloading https://files.pythonhosted.org/packages/69/79/e6afb3d8b0b4e96cefbdc690f741d7dd24547ff1f94240c997a26fa908d3/s3transfer-0.3.3-py2.py3-none-any.whl (69kB)\n",
            "\u001b[K     |████████████████████████████████| 71kB 12.3MB/s \n",
            "\u001b[?25hCollecting urllib3<1.27,>=1.25.4; python_version != \"3.4\"\n",
            "\u001b[?25l  Downloading https://files.pythonhosted.org/packages/f5/71/45d36a8df68f3ebb098d6861b2c017f3d094538c0fb98fa61d4dc43e69b9/urllib3-1.26.2-py2.py3-none-any.whl (136kB)\n",
            "\u001b[K     |████████████████████████████████| 143kB 60.1MB/s \n",
            "\u001b[?25hRequirement already satisfied: python-dateutil<3.0.0,>=2.1 in /usr/local/lib/python3.6/dist-packages (from botocore<1.20.0,>=1.19.18->boto3) (2.8.1)\n",
            "Requirement already satisfied: six>=1.5 in /usr/local/lib/python3.6/dist-packages (from python-dateutil<3.0.0,>=2.1->botocore<1.20.0,>=1.19.18->boto3) (1.15.0)\n",
            "\u001b[31mERROR: requests 2.23.0 has requirement urllib3!=1.25.0,!=1.25.1,<1.26,>=1.21.1, but you'll have urllib3 1.26.2 which is incompatible.\u001b[0m\n",
            "\u001b[31mERROR: datascience 0.10.6 has requirement folium==0.2.1, but you'll have folium 0.8.3 which is incompatible.\u001b[0m\n",
            "Installing collected packages: urllib3, jmespath, botocore, s3transfer, boto3\n",
            "  Found existing installation: urllib3 1.24.3\n",
            "    Uninstalling urllib3-1.24.3:\n",
            "      Successfully uninstalled urllib3-1.24.3\n",
            "Successfully installed boto3-1.16.18 botocore-1.19.18 jmespath-0.10.0 s3transfer-0.3.3 urllib3-1.26.2\n"
          ],
          "name": "stdout"
        }
      ]
    },
    {
      "cell_type": "code",
      "metadata": {
        "id": "OKxKgr0QHgL-"
      },
      "source": [
        "# This code downloads the coco dataset from Amazon S3 in parallel.\n",
        "import boto3\n",
        "from botocore import UNSIGNED\n",
        "from botocore.client import Config\n",
        "import multiprocessing\n",
        "import subprocess"
      ],
      "execution_count": 8,
      "outputs": []
    },
    {
      "cell_type": "code",
      "metadata": {
        "id": "XT2aKqbHI7UQ"
      },
      "source": [
        "\n",
        "s3 = boto3.client('s3', config=Config(signature_version=UNSIGNED))"
      ],
      "execution_count": 9,
      "outputs": []
    },
    {
      "cell_type": "code",
      "metadata": {
        "id": "6BjPtDmJI_w2"
      },
      "source": [
        "def download_and_unzip_from_s3(file_name, bucket_name='fast-ai-coco'):\n",
        "    print(\"Downloading\", file_name)\n",
        "    s3.download_file(bucket_name, file_name, file_name)\n",
        "    print(\"Finished downloading\", file_name, \". Starting to unzip.\")\n",
        "    subprocess.run([\"unzip\", file_name])\n",
        "    print(\"Finished unzipping\", file_name)"
      ],
      "execution_count": 10,
      "outputs": []
    },
    {
      "cell_type": "code",
      "metadata": {
        "id": "Kf2Ll8R_JUkP",
        "outputId": "00bca09d-00da-4f86-9005-b531de2b70fb",
        "colab": {
          "base_uri": "https://localhost:8080/"
        }
      },
      "source": [
        "num_cpus = multiprocessing.cpu_count()\n",
        "num_cpus # 2"
      ],
      "execution_count": 11,
      "outputs": [
        {
          "output_type": "execute_result",
          "data": {
            "text/plain": [
              "2"
            ]
          },
          "metadata": {
            "tags": []
          },
          "execution_count": 11
        }
      ]
    },
    {
      "cell_type": "code",
      "metadata": {
        "id": "-CSHnf1VJEO0",
        "outputId": "9ec78672-d50d-47fa-ad08-020bf004deec",
        "colab": {
          "base_uri": "https://localhost:8080/"
        }
      },
      "source": [
        "# Download in parallel\n",
        "# In sections 1 and 3, you don’t need to download the “train2017.zip” file\n",
        "# since it’s very large. We only need that one in Milestone 4.\n",
        "\n",
        "## code\n",
        "# files = ['val2017.zip', 'annotations_trainval2017.zip', 'train2017.zip']\n",
        "files = ['val2017.zip', 'annotations_trainval2017.zip']\n",
        "with multiprocessing.Pool(num_cpus) as p:\n",
        "  p.map(download_and_unzip_from_s3, files)\n",
        "  \n",
        "print(\"Done transferring all datasets\")\n",
        "\n",
        "## outputs\n",
        "# Downloading annotations_trainval2017.zip\n",
        "# Downloading val2017.zip\n",
        "# Finished downloading annotations_trainval2017.zip . Starting to unzip.\n",
        "# Finished unzipping annotations_trainval2017.zip\n",
        "# Finished downloading val2017.zip . Starting to unzip.\n",
        "# Finished unzipping val2017.zip\n",
        "# Done transferring all datasets"
      ],
      "execution_count": 12,
      "outputs": [
        {
          "output_type": "stream",
          "text": [
            "Downloading val2017.zip\n",
            "Downloading annotations_trainval2017.zip\n",
            "Finished downloading annotations_trainval2017.zip . Starting to unzip.\n",
            "Finished downloading val2017.zip . Starting to unzip.\n",
            "Finished unzipping annotations_trainval2017.zip\n",
            "Finished unzipping val2017.zip\n",
            "Done transferring all datasets\n"
          ],
          "name": "stdout"
        }
      ]
    }
  ]
}